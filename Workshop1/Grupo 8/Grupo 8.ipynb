{
 "cells": [
  {
   "cell_type": "code",
   "execution_count": 7,
   "metadata": {},
   "outputs": [],
   "source": [
    "import pandas as pd\n",
    "import re\n",
    "import numpy as np"
   ]
  },
  {
   "cell_type": "code",
   "execution_count": 8,
   "metadata": {},
   "outputs": [
    {
     "data": {
      "text/html": [
       "<div>\n",
       "<style scoped>\n",
       "    .dataframe tbody tr th:only-of-type {\n",
       "        vertical-align: middle;\n",
       "    }\n",
       "\n",
       "    .dataframe tbody tr th {\n",
       "        vertical-align: top;\n",
       "    }\n",
       "\n",
       "    .dataframe thead th {\n",
       "        text-align: right;\n",
       "    }\n",
       "</style>\n",
       "<table border=\"1\" class=\"dataframe\">\n",
       "  <thead>\n",
       "    <tr style=\"text-align: right;\">\n",
       "      <th></th>\n",
       "      <th>Unnamed: 0</th>\n",
       "      <th>operation</th>\n",
       "      <th>property_type</th>\n",
       "      <th>place_name</th>\n",
       "      <th>place_with_parent_names</th>\n",
       "      <th>country_name</th>\n",
       "      <th>state_name</th>\n",
       "      <th>geonames_id</th>\n",
       "      <th>lat-lon</th>\n",
       "      <th>lat</th>\n",
       "      <th>...</th>\n",
       "      <th>surface_covered_in_m2</th>\n",
       "      <th>price_usd_per_m2</th>\n",
       "      <th>price_per_m2</th>\n",
       "      <th>floor</th>\n",
       "      <th>rooms</th>\n",
       "      <th>expenses</th>\n",
       "      <th>properati_url</th>\n",
       "      <th>description</th>\n",
       "      <th>title</th>\n",
       "      <th>image_thumbnail</th>\n",
       "    </tr>\n",
       "  </thead>\n",
       "  <tbody>\n",
       "    <tr>\n",
       "      <th>0</th>\n",
       "      <td>0</td>\n",
       "      <td>sell</td>\n",
       "      <td>PH</td>\n",
       "      <td>Mataderos</td>\n",
       "      <td>|Argentina|Capital Federal|Mataderos|</td>\n",
       "      <td>Argentina</td>\n",
       "      <td>Capital Federal</td>\n",
       "      <td>3430787.0</td>\n",
       "      <td>-34.6618237,-58.5088387</td>\n",
       "      <td>-34.661824</td>\n",
       "      <td>...</td>\n",
       "      <td>40.0</td>\n",
       "      <td>1127.272727</td>\n",
       "      <td>1550.000000</td>\n",
       "      <td>NaN</td>\n",
       "      <td>NaN</td>\n",
       "      <td>NaN</td>\n",
       "      <td>http://www.properati.com.ar/15bo8_venta_ph_mat...</td>\n",
       "      <td>2 AMBIENTES TIPO CASA PLANTA BAJA POR PASILLO,...</td>\n",
       "      <td>2 AMB TIPO CASA SIN EXPENSAS EN PB</td>\n",
       "      <td>https://thumbs4.properati.com/8/BluUYiHJLhgIIK...</td>\n",
       "    </tr>\n",
       "    <tr>\n",
       "      <th>1</th>\n",
       "      <td>1</td>\n",
       "      <td>sell</td>\n",
       "      <td>apartment</td>\n",
       "      <td>La Plata</td>\n",
       "      <td>|Argentina|Bs.As. G.B.A. Zona Sur|La Plata|</td>\n",
       "      <td>Argentina</td>\n",
       "      <td>Bs.As. G.B.A. Zona Sur</td>\n",
       "      <td>3432039.0</td>\n",
       "      <td>-34.9038831,-57.9643295</td>\n",
       "      <td>-34.903883</td>\n",
       "      <td>...</td>\n",
       "      <td>NaN</td>\n",
       "      <td>NaN</td>\n",
       "      <td>NaN</td>\n",
       "      <td>NaN</td>\n",
       "      <td>NaN</td>\n",
       "      <td>NaN</td>\n",
       "      <td>http://www.properati.com.ar/15bob_venta_depart...</td>\n",
       "      <td>Venta de departamento en décimo piso al frente...</td>\n",
       "      <td>VENTA Depto 2 dorm. a estrenar 7 e/ 36 y 37   ...</td>\n",
       "      <td>https://thumbs4.properati.com/7/ikpVBu2ztHA7jv...</td>\n",
       "    </tr>\n",
       "    <tr>\n",
       "      <th>2</th>\n",
       "      <td>2</td>\n",
       "      <td>sell</td>\n",
       "      <td>apartment</td>\n",
       "      <td>Mataderos</td>\n",
       "      <td>|Argentina|Capital Federal|Mataderos|</td>\n",
       "      <td>Argentina</td>\n",
       "      <td>Capital Federal</td>\n",
       "      <td>3430787.0</td>\n",
       "      <td>-34.6522615,-58.5229825</td>\n",
       "      <td>-34.652262</td>\n",
       "      <td>...</td>\n",
       "      <td>55.0</td>\n",
       "      <td>1309.090909</td>\n",
       "      <td>1309.090909</td>\n",
       "      <td>NaN</td>\n",
       "      <td>NaN</td>\n",
       "      <td>NaN</td>\n",
       "      <td>http://www.properati.com.ar/15bod_venta_depart...</td>\n",
       "      <td>2 AMBIENTES 3ER PISO LATERAL LIVING COMEDOR AM...</td>\n",
       "      <td>2 AMB 3ER PISO CON ASCENSOR APTO CREDITO</td>\n",
       "      <td>https://thumbs4.properati.com/5/SXKr34F_IwG3W_...</td>\n",
       "    </tr>\n",
       "  </tbody>\n",
       "</table>\n",
       "<p>3 rows × 26 columns</p>\n",
       "</div>"
      ],
      "text/plain": [
       "   Unnamed: 0 operation property_type place_name  \\\n",
       "0           0      sell            PH  Mataderos   \n",
       "1           1      sell     apartment   La Plata   \n",
       "2           2      sell     apartment  Mataderos   \n",
       "\n",
       "                       place_with_parent_names country_name  \\\n",
       "0        |Argentina|Capital Federal|Mataderos|    Argentina   \n",
       "1  |Argentina|Bs.As. G.B.A. Zona Sur|La Plata|    Argentina   \n",
       "2        |Argentina|Capital Federal|Mataderos|    Argentina   \n",
       "\n",
       "               state_name  geonames_id                  lat-lon        lat  \\\n",
       "0         Capital Federal    3430787.0  -34.6618237,-58.5088387 -34.661824   \n",
       "1  Bs.As. G.B.A. Zona Sur    3432039.0  -34.9038831,-57.9643295 -34.903883   \n",
       "2         Capital Federal    3430787.0  -34.6522615,-58.5229825 -34.652262   \n",
       "\n",
       "   ...  surface_covered_in_m2  price_usd_per_m2 price_per_m2  floor  rooms  \\\n",
       "0  ...                   40.0       1127.272727  1550.000000    NaN    NaN   \n",
       "1  ...                    NaN               NaN          NaN    NaN    NaN   \n",
       "2  ...                   55.0       1309.090909  1309.090909    NaN    NaN   \n",
       "\n",
       "   expenses                                      properati_url  \\\n",
       "0       NaN  http://www.properati.com.ar/15bo8_venta_ph_mat...   \n",
       "1       NaN  http://www.properati.com.ar/15bob_venta_depart...   \n",
       "2       NaN  http://www.properati.com.ar/15bod_venta_depart...   \n",
       "\n",
       "                                         description  \\\n",
       "0  2 AMBIENTES TIPO CASA PLANTA BAJA POR PASILLO,...   \n",
       "1  Venta de departamento en décimo piso al frente...   \n",
       "2  2 AMBIENTES 3ER PISO LATERAL LIVING COMEDOR AM...   \n",
       "\n",
       "                                               title  \\\n",
       "0                 2 AMB TIPO CASA SIN EXPENSAS EN PB   \n",
       "1  VENTA Depto 2 dorm. a estrenar 7 e/ 36 y 37   ...   \n",
       "2           2 AMB 3ER PISO CON ASCENSOR APTO CREDITO   \n",
       "\n",
       "                                     image_thumbnail  \n",
       "0  https://thumbs4.properati.com/8/BluUYiHJLhgIIK...  \n",
       "1  https://thumbs4.properati.com/7/ikpVBu2ztHA7jv...  \n",
       "2  https://thumbs4.properati.com/5/SXKr34F_IwG3W_...  \n",
       "\n",
       "[3 rows x 26 columns]"
      ]
     },
     "execution_count": 8,
     "metadata": {},
     "output_type": "execute_result"
    }
   ],
   "source": [
    "data_location = \"data/properatti.csv\" # dataset en carpeta data\n",
    "data = pd.read_csv(data_location)\n",
    "data_inicial = data.copy()\n",
    "data.head(3)"
   ]
  },
  {
   "cell_type": "code",
   "execution_count": 9,
   "metadata": {},
   "outputs": [],
   "source": [
    "# Salteo un monton de celdas descriptivas\n",
    "\n",
    "#Aplicamos regex para obtener los precios desde la descripción\n",
    "patron_price = \"(?P<Currency>U\\$S|USD|uSd|usD|usd|Usd|US\\$|us\\$|uS\\$|Us\\$)\\$? ?(?P<Price>\\d+(\\,|\\.)?\\d+((\\,|\\.)\\d+)?)\"\n",
    "regex_price = re.compile(patron_price, flags = re.IGNORECASE)\n",
    "data_search = data['description'].apply(lambda x: x if x is np.NaN else regex_price.search(x))\n",
    "data_search_not_null = data_search.notnull()\n",
    "data.loc[data_search_not_null,'description_price'] = data_search[data_search_not_null].apply(lambda x : x.group('Price'))\n",
    "data.loc[data_search_not_null,'description_currency'] = data_search[data_search_not_null].apply(lambda x : x.group('Currency'))"
   ]
  },
  {
   "cell_type": "code",
   "execution_count": 10,
   "metadata": {},
   "outputs": [],
   "source": [
    "#Aplicamos regex para obtener los ambientes desde la descripción\n",
    "patron_rooms = \"(?P<rooms>\\d|Mono|mono|dos|Dos|DOS|tres|Tres|TRES|cuatro|Cuatro|CUATRO) ?(AMB|amb)\"\n",
    "regex_rooms = re.compile(patron_rooms, flags = re.IGNORECASE)\n",
    "data_search = data['description'].apply(lambda x: x if x is np.NaN else regex_rooms.search(x))\n",
    "data_search_not_null = data_search.notnull()\n",
    "data.loc[data_search_not_null,'description_rooms'] = data_search[data_search_not_null].apply(lambda x : x.group('rooms'))\n",
    "data['description_rooms'] = data['description_rooms'].replace(['MONO', 'Mono', 'mono'], 1) \n",
    "data['description_rooms'] = data['description_rooms'].replace(['dos','Dos', 'DOS'], 2) \n",
    "data['description_rooms'] = data['description_rooms'].replace(['tres','Tres','TRES'], 3) \n",
    "data['description_rooms'] = data['description_rooms'].replace(['cuatro','Cuatro', 'CUATRO'], 4) "
   ]
  },
  {
   "cell_type": "code",
   "execution_count": 11,
   "metadata": {},
   "outputs": [
    {
     "name": "stdout",
     "output_type": "stream",
     "text": [
      "73830\n",
      "48592\n"
     ]
    },
    {
     "data": {
      "text/plain": [
       "No informa    48618\n",
       "2             19961\n",
       "3             19507\n",
       "1             12743\n",
       "4             11758\n",
       "5              4862\n",
       "6              1729\n",
       "7               891\n",
       "8               425\n",
       "10              226\n",
       "9               198\n",
       "11               72\n",
       "12               65\n",
       "13               33\n",
       "14               27\n",
       "15               26\n",
       "17               16\n",
       "16               11\n",
       "20               11\n",
       "22                8\n",
       "18                6\n",
       "21                5\n",
       "19                4\n",
       "25                4\n",
       "30                4\n",
       "32                3\n",
       "23                2\n",
       "28                1\n",
       "24                1\n",
       "27                1\n",
       "31                1\n",
       "29                1\n",
       "Name: rooms_clean, dtype: int64"
      ]
     },
     "execution_count": 11,
     "metadata": {},
     "output_type": "execute_result"
    }
   ],
   "source": [
    "#Creamos la columna con los ambientes obtenidos en regex\n",
    "data['rooms_clean'] = data['rooms']\n",
    "mask_rooms_null = data[\"rooms\"].isnull()\n",
    "data.loc[mask_rooms_null, \"rooms_clean\"] = data.loc[mask_rooms_null, \"description_rooms\"]\n",
    "\n",
    "#Observamos reducción de nulls\n",
    "print (data[\"rooms\"].isnull().sum())\n",
    "print (data[\"rooms_clean\"].isnull().sum())\n",
    "#Reemplazamos el resto con \"No informa\"\n",
    "data.rooms_clean.fillna('0', inplace=True)\n",
    "data[\"rooms_clean\"] = data.rooms_clean.astype(int)\n",
    "data.rooms_clean.replace(0, 'No informa', inplace=True)\n",
    "data.rooms_clean.value_counts()"
   ]
  },
  {
   "cell_type": "code",
   "execution_count": 12,
   "metadata": {},
   "outputs": [
    {
     "name": "stdout",
     "output_type": "stream",
     "text": [
      "0     48618\n",
      "2     19961\n",
      "3     19507\n",
      "1     12743\n",
      "4     11758\n",
      "5      4862\n",
      "6      1729\n",
      "7       891\n",
      "8       425\n",
      "10      226\n",
      "9       198\n",
      "11       72\n",
      "12       65\n",
      "13       33\n",
      "14       27\n",
      "15       26\n",
      "17       16\n",
      "16       11\n",
      "20       11\n",
      "22        8\n",
      "18        6\n",
      "21        5\n",
      "19        4\n",
      "25        4\n",
      "30        4\n",
      "32        3\n",
      "23        2\n",
      "31        1\n",
      "24        1\n",
      "27        1\n",
      "28        1\n",
      "29        1\n",
      "Name: rooms_clean, dtype: int64\n",
      "No informa    48848\n",
      "2             19961\n",
      "3             19507\n",
      "1             12743\n",
      "4             11758\n",
      "5              4862\n",
      "6              1729\n",
      "7               891\n",
      "8               425\n",
      "10              226\n",
      "9               198\n",
      "11               72\n",
      "Name: rooms_clean, dtype: int64\n"
     ]
    }
   ],
   "source": [
    "#Se fueron muestreando y analizando las descripciones de los outliers, suenan razonables\n",
    "#ya que se venden propiedades con varios departamentos o edificios pero también hay casos\n",
    "#donde se observa una incorreción en la carga por lo tanto al ser tan pocos casos se elige clasificarlos como \"No informa\" \n",
    "\n",
    "data_copy = data.copy()\n",
    "data_copy.rooms_clean.replace('No informa', 0, inplace=True)\n",
    "#print(* data_copy[\"description\"][data_copy[\"rooms_clean\"]==25], sep=\"\\n\\n\")\n",
    "print ( data_copy.rooms_clean.value_counts())\n",
    "\n",
    "data.loc[data_copy[\"rooms_clean\"]>11, \"rooms_clean\"] = 'No informa'\n",
    "\n",
    "print ( data.rooms_clean.value_counts())"
   ]
  },
  {
   "cell_type": "code",
   "execution_count": 13,
   "metadata": {},
   "outputs": [],
   "source": [
    "#Aplicamos regex para obtener los pisos desde la descripción\n",
    "patron_floor = \"(?P<floor>\\d+|primer|Primer|PRIMER|primero|Primero|PRIMERO|segunda|Segunda|SEGUNDA|segundo|Segundo|SEGUNDO|tercer|Tercer|TERCER|cuarto|Cuarto|CUARTO|quinto|Quinto|QUINTO|sexto|Sexto|SEXTO|septimo|Septimo|SEPTIMO|octavo|Octavo|OCTAVO) ?(PISO|piso|PLANTA|planta)\"\n",
    "regex_floor = re.compile(patron_floor, flags = re.IGNORECASE)\n",
    "data_search = data['description'].apply(lambda x: x if x is np.NaN else regex_floor.search(x))\n",
    "data_search_not_null = data_search.notnull()\n",
    "data.loc[data_search_not_null,'description_floors'] = data_search[data_search_not_null].apply(lambda x : x.group('floor'))\n",
    "data['description_floors'] = data['description_floors'].replace(['primero',\n",
    "                                                                 'Primero',\n",
    "                                                                 'PRIMERO',\n",
    "                                                                 'primer',\n",
    "                                                                 'Primer',\n",
    "                                                                 'PRIMER'], 1) \n",
    "data['description_floors'] = data['description_floors'].replace(['segundo',\n",
    "                                                                 'Segundo',\n",
    "                                                                 'SEGUNDO',\n",
    "                                                                 'segunda',\n",
    "                                                                 'Segunda',\n",
    "                                                                 'SEGUNDA'], 2) \n",
    "data['description_floors'] = data['description_floors'].replace(['tercer',\n",
    "                                                                 'Tercer',\n",
    "                                                                 'TERCER',\n",
    "                                                                 'TErcer'], 3) \n",
    "data['description_floors'] = data['description_floors'].replace(['cuarto',\n",
    "                                                                 'Cuarto',\n",
    "                                                                 'CUARTO'], 4) \n",
    "data['description_floors'] = data['description_floors'].replace(['quinto',\n",
    "                                                                 'Quinto',\n",
    "                                                                 'QUINTO'], 5) \n",
    "data['description_floors'] = data['description_floors'].replace(['sexto',\n",
    "                                                                 'Sexto',\n",
    "                                                                 'SEXTO'], 6) \n",
    "data['description_floors'] = data['description_floors'].replace(['septimo',\n",
    "                                                                 'SEPTIMO',\n",
    "                                                                 'Septimo'], 7) \n",
    "data['description_floors'] = data['description_floors'].replace(['octavo',\n",
    "                                                                 'Octavo',\n",
    "                                                                 'OCTAVO'], 8) \n",
    "data['description_floors'] = data['description_floors'].replace('', 0) "
   ]
  },
  {
   "cell_type": "code",
   "execution_count": 14,
   "metadata": {},
   "outputs": [
    {
     "name": "stdout",
     "output_type": "stream",
     "text": [
      "113321\n",
      "95918\n"
     ]
    },
    {
     "data": {
      "text/plain": [
       "No informa    95958\n",
       "2              6560\n",
       "1              5913\n",
       "3              2660\n",
       "4              1519\n",
       "              ...  \n",
       "433               1\n",
       "410               1\n",
       "407               1\n",
       "406               1\n",
       "306               1\n",
       "Name: floor_clean, Length: 308, dtype: int64"
      ]
     },
     "execution_count": 14,
     "metadata": {},
     "output_type": "execute_result"
    }
   ],
   "source": [
    "#Creamos la columna con los floor obtenidos en regex\n",
    "data['floor_clean'] = data['floor']\n",
    "mask_floor_null = data[\"floor\"].isnull()\n",
    "data.loc[mask_floor_null, \"floor_clean\"] = data.loc[mask_floor_null, \"description_floors\"]\n",
    "\n",
    "#Observamos reducción de nulls\n",
    "print (data[\"floor\"].isnull().sum())\n",
    "print (data[\"floor_clean\"].isnull().sum())\n",
    "#Reemplazamos el resto con \"No informa\"\n",
    "data.floor_clean.fillna('0', inplace=True)\n",
    "data[\"floor_clean\"] = data.floor_clean.astype(int)\n",
    "data.floor_clean.replace(0, 'No informa', inplace=True)\n",
    "data.floor_clean.value_counts()"
   ]
  },
  {
   "cell_type": "code",
   "execution_count": 15,
   "metadata": {},
   "outputs": [
    {
     "name": "stdout",
     "output_type": "stream",
     "text": [
      "0       95958\n",
      "2        6560\n",
      "1        5913\n",
      "3        2660\n",
      "4        1519\n",
      "        ...  \n",
      "1379        1\n",
      "803         1\n",
      "802         1\n",
      "98          1\n",
      "157         1\n",
      "Name: floor_clean, Length: 308, dtype: int64\n",
      "No informa    96665\n",
      "2              6560\n",
      "1              5913\n",
      "3              2660\n",
      "4              1519\n",
      "8              1089\n",
      "6              1054\n",
      "5               965\n",
      "10              858\n",
      "7               811\n",
      "9               794\n",
      "12              543\n",
      "14              496\n",
      "11              282\n",
      "13              265\n",
      "15              164\n",
      "18              104\n",
      "24               84\n",
      "17               72\n",
      "16               59\n",
      "20               59\n",
      "19               45\n",
      "22               43\n",
      "21               41\n",
      "26               25\n",
      "27               21\n",
      "25               19\n",
      "23               10\n",
      "Name: floor_clean, dtype: int64\n"
     ]
    }
   ],
   "source": [
    "#Dado que los edificios más altos en Argentina tienen 27 pisos (Fuente=\"https://es.wikipedia.org/wiki/Anexo:Edificios_m%C3%A1s_altos_de_Argentina\")\n",
    "#los que superen ese limite se clasifican como \"No informa\" \n",
    "\n",
    "data_copy = data.copy()\n",
    "data_copy.floor_clean.replace('No informa', 0, inplace=True)\n",
    "print ( data_copy.floor_clean.value_counts())\n",
    "\n",
    "data.loc[data_copy[\"floor_clean\"]>27, \"floor_clean\"] = 'No informa'\n",
    "\n",
    "print ( data.floor_clean.value_counts())"
   ]
  },
  {
   "cell_type": "code",
   "execution_count": 16,
   "metadata": {},
   "outputs": [
    {
     "data": {
      "text/plain": [
       "0         False\n",
       "1         False\n",
       "2         False\n",
       "3         False\n",
       "4         False\n",
       "          ...  \n",
       "121215     True\n",
       "121216     True\n",
       "121217    False\n",
       "121218    False\n",
       "121219     True\n",
       "Name: with_expenses, Length: 121220, dtype: bool"
      ]
     },
     "execution_count": 16,
     "metadata": {},
     "output_type": "execute_result"
    }
   ],
   "source": [
    "#Dado el alto número de NA en expenses decidimos volverla una variable booleana que determina si tiene o no expensas.\n",
    "data['with_expenses 1'] = data['expenses'].fillna(0)>0\n",
    "data['with_expenses 2'] = data.description.str.contains('expensa')\n",
    "data['with_expenses 3'] = data.description.str.contains('sin expensa|no expensa' , na=False)\n",
    "data['with_expenses'] = ((data['with_expenses 1']) | ((~data['with_expenses 3']) & data['with_expenses 2']))\n",
    "data['with_expenses']"
   ]
  },
  {
   "cell_type": "code",
   "execution_count": 17,
   "metadata": {},
   "outputs": [
    {
     "data": {
      "text/plain": [
       "0.4292031017983831"
      ]
     },
     "execution_count": 17,
     "metadata": {},
     "output_type": "execute_result"
    }
   ],
   "source": [
    "data_description_with_floor = data.description.str.contains('piso|planta' , na=False)\n",
    "data.description[data_description_with_floor].shape[0]/data.description.shape[0]"
   ]
  },
  {
   "cell_type": "code",
   "execution_count": 18,
   "metadata": {},
   "outputs": [],
   "source": [
    "#Agregamos columnas que identifican la existencia de determinados amenities\n",
    "data_description_with_pool = data.description.str.contains('pileta|piscina|alberca')\n",
    "data ['pool'] = data_description_with_pool\n",
    "data_description_with_Terrace = data.description.str.contains('terraza')\n",
    "data ['terrace'] = data_description_with_Terrace\n",
    "data_description_with_Balcony_or_yard  = data.description.str.contains('balcon|patio')\n",
    "data ['balcony_or_yard'] = data_description_with_Balcony_or_yard\n",
    "data_description_with_grill  = data.description.str.contains('parrilla|asador')\n",
    "data ['grill'] = data_description_with_grill\n",
    "data_description_with_underfloor_heating  = data.description.str.contains('radiante|calefacción central')\n",
    "data ['underfloor_heating'] = data_description_with_underfloor_heating\n",
    "data_garage  = data.description.str.contains('cochera|garage|garaje|estacionamiento|aparcamiento')\n",
    "data['Garage'] = data_garage\n",
    "amenities = ['Garage' ,\n",
    "             'underfloor_heating' ,\n",
    "             'grill' ,\n",
    "             'balcony_or_yard' ,\n",
    "             'terrace' ,\n",
    "             'pool']"
   ]
  },
  {
   "cell_type": "code",
   "execution_count": 19,
   "metadata": {},
   "outputs": [],
   "source": [
    "# Vamos con la parte geo\n",
    "\n",
    "# Como todas las filas corresponden a Tigre le asigno ese falor\n",
    "data['place_name'] = data['place_name'].fillna('Tigre')"
   ]
  },
  {
   "cell_type": "code",
   "execution_count": 20,
   "metadata": {},
   "outputs": [
    {
     "data": {
      "text/plain": [
       "|Argentina|Bs.As. G.B.A. Zona Norte|Tigre||    23\n",
       "Name: place_with_parent_names, dtype: int64"
      ]
     },
     "execution_count": 20,
     "metadata": {},
     "output_type": "execute_result"
    }
   ],
   "source": [
    "# Quiero verificar que los datos en place_name coincidan con place_with_parent_names\n",
    "data['place_name_parent'] = data.apply(lambda x: x['place_with_parent_names'].split('|')[-2], axis = 1)\n",
    "mask_diff_place_name = data['place_name_parent'] != data['place_name']\n",
    "data.loc[mask_diff_place_name, 'place_with_parent_names'].value_counts()"
   ]
  },
  {
   "cell_type": "code",
   "execution_count": 21,
   "metadata": {},
   "outputs": [
    {
     "data": {
      "text/plain": [
       "0"
      ]
     },
     "execution_count": 21,
     "metadata": {},
     "output_type": "execute_result"
    }
   ],
   "source": [
    "'''No se computaron 23 valores de 'place_name_parent' porque 'place_with_parent_names' tiene doble ||\n",
    "en vez de un sólo |'''\n",
    "data.loc[data[mask_diff_place_name].index, 'place_name_parent'] = 'Tigre'\n",
    "# Ahora sí comparo y veo que no hay diferencia\n",
    "(data['place_name'] != data['place_name_parent']).sum()"
   ]
  },
  {
   "cell_type": "code",
   "execution_count": 22,
   "metadata": {},
   "outputs": [
    {
     "data": {
      "text/plain": [
       "province\n",
       "Capital Federal                 32316\n",
       "Bs.As. G.B.A. Zona Norte        25560\n",
       "Bs.As. G.B.A. Zona Sur          13952\n",
       "Córdoba                         12069\n",
       "Santa Fe                        10172\n",
       "Buenos Aires Costa Atlántica    10006\n",
       "Bs.As. G.B.A. Zona Oeste         9322\n",
       "Buenos Aires Interior            2291\n",
       "Río Negro                         808\n",
       "Neuquén                           733\n",
       "Mendoza                           681\n",
       "Tucumán                           674\n",
       "Corrientes                        583\n",
       "Misiones                          464\n",
       "Entre Ríos                        369\n",
       "Salta                             278\n",
       "Chubut                            259\n",
       "San Luis                          252\n",
       "La Pampa                          157\n",
       "Formosa                            65\n",
       "Chaco                              57\n",
       "San Juan                           40\n",
       "Tierra Del Fuego                   31\n",
       "Catamarca                          27\n",
       "Jujuy                              26\n",
       "Santa Cruz                         20\n",
       "La Rioja                            4\n",
       "Santiago Del Estero                 4\n",
       "Name: province, dtype: int64"
      ]
     },
     "execution_count": 22,
     "metadata": {},
     "output_type": "execute_result"
    }
   ],
   "source": [
    "# Quiero separar los datos por provincia y eliminar aquellas que tengan pocos registros\n",
    "data['province'] = data.apply(lambda x: x['place_with_parent_names'].split('|')[2], axis = 1)\n",
    "province_group = data.groupby('province')\n",
    "province_group['province'].count().sort_values(ascending = False)"
   ]
  },
  {
   "cell_type": "code",
   "execution_count": 23,
   "metadata": {},
   "outputs": [
    {
     "data": {
      "text/plain": [
       "Capital Federal                 32316\n",
       "Bs.As. G.B.A. Zona Norte        25560\n",
       "Bs.As. G.B.A. Zona Sur          13952\n",
       "Córdoba                         12069\n",
       "Santa Fe                        10172\n",
       "Buenos Aires Costa Atlántica    10006\n",
       "Bs.As. G.B.A. Zona Oeste         9322\n",
       "Buenos Aires Interior            2291\n",
       "Name: province, dtype: int64"
      ]
     },
     "execution_count": 23,
     "metadata": {},
     "output_type": "execute_result"
    }
   ],
   "source": [
    "# Elimino las provincias que tengan menos de 1000 registros\n",
    "data_province_filtered = province_group.filter(lambda grp: grp['province'].count() > 1000)\n",
    "data_province_filtered['province'].value_counts()"
   ]
  },
  {
   "cell_type": "code",
   "execution_count": 24,
   "metadata": {},
   "outputs": [
    {
     "name": "stdout",
     "output_type": "stream",
     "text": [
      "El porcentaje de lat NaNs y que contienen información en geonames_id es: % 35.77\n"
     ]
    }
   ],
   "source": [
    "''' Se evalúa extraer información de la columna 'geonames_id', primero se verá\n",
    "el porcentaje de columnas 'lat' que sean NaN y que tienen información en 'geonames_id'.'''\n",
    "mask_lat_nan_and_geonames_notnan = data['lat'].isna() & data['geonames_id'].notna()\n",
    "\n",
    "print('El porcentaje de lat NaNs y que contienen información en geonames_id es: %',\n",
    "      round(mask_lat_nan_and_geonames_notnan.sum() * 100 / mask_lat_nan_and_geonames_notnan.shape[0], 2)\n",
    "     )"
   ]
  },
  {
   "cell_type": "code",
   "execution_count": 25,
   "metadata": {},
   "outputs": [
    {
     "data": {
      "text/html": [
       "<div>\n",
       "<style scoped>\n",
       "    .dataframe tbody tr th:only-of-type {\n",
       "        vertical-align: middle;\n",
       "    }\n",
       "\n",
       "    .dataframe tbody tr th {\n",
       "        vertical-align: top;\n",
       "    }\n",
       "\n",
       "    .dataframe thead th {\n",
       "        text-align: right;\n",
       "    }\n",
       "</style>\n",
       "<table border=\"1\" class=\"dataframe\">\n",
       "  <thead>\n",
       "    <tr style=\"text-align: right;\">\n",
       "      <th></th>\n",
       "      <th>geonames_id</th>\n",
       "      <th>localidad_API</th>\n",
       "      <th>lat_API</th>\n",
       "      <th>lon_API</th>\n",
       "      <th>place_parent_names_API</th>\n",
       "      <th>place_name_API</th>\n",
       "    </tr>\n",
       "  </thead>\n",
       "  <tbody>\n",
       "    <tr>\n",
       "      <th>0</th>\n",
       "      <td>3427200</td>\n",
       "      <td>Sierra del 15</td>\n",
       "      <td>-37.96613</td>\n",
       "      <td>-57.94670</td>\n",
       "      <td>America/Argentina/Buenos_Aires</td>\n",
       "      <td>Buenos Aires</td>\n",
       "    </tr>\n",
       "    <tr>\n",
       "      <th>1</th>\n",
       "      <td>3427201</td>\n",
       "      <td>Puesto 1 Napoleón Cué</td>\n",
       "      <td>-28.63333</td>\n",
       "      <td>-56.11667</td>\n",
       "      <td>America/Argentina/Cordoba</td>\n",
       "      <td>Cordoba</td>\n",
       "    </tr>\n",
       "    <tr>\n",
       "      <th>2</th>\n",
       "      <td>3427202</td>\n",
       "      <td>Cañada del Zorro</td>\n",
       "      <td>-32.16667</td>\n",
       "      <td>-59.50000</td>\n",
       "      <td>America/Argentina/Cordoba</td>\n",
       "      <td>Cordoba</td>\n",
       "    </tr>\n",
       "  </tbody>\n",
       "</table>\n",
       "</div>"
      ],
      "text/plain": [
       "   geonames_id          localidad_API   lat_API   lon_API  \\\n",
       "0      3427200          Sierra del 15 -37.96613 -57.94670   \n",
       "1      3427201  Puesto 1 Napoleón Cué -28.63333 -56.11667   \n",
       "2      3427202       Cañada del Zorro -32.16667 -59.50000   \n",
       "\n",
       "           place_parent_names_API place_name_API  \n",
       "0  America/Argentina/Buenos_Aires   Buenos Aires  \n",
       "1       America/Argentina/Cordoba        Cordoba  \n",
       "2       America/Argentina/Cordoba        Cordoba  "
      ]
     },
     "metadata": {},
     "output_type": "display_data"
    },
    {
     "name": "stdout",
     "output_type": "stream",
     "text": [
      "(49673, 6)\n"
     ]
    }
   ],
   "source": [
    "data_geonames = pd.read_csv('./data/AR.txt', header = None, sep = '\\t')\n",
    "data_geonames = data_geonames[[0, 1, 4, 5, 17]]\n",
    "data_geonames = data_geonames.rename(columns = {0 :  'geonames_id',\n",
    "                                                1 : 'localidad_API',\n",
    "                                                4 : 'lat_API',\n",
    "                                                5 : 'lon_API',\n",
    "                                                17 : 'place_parent_names_API'})\n",
    "data_geonames['place_name_API'] = data_geonames['place_parent_names_API'].apply(lambda x: \n",
    "                                x if x is np.nan else x[x.rfind('/') + 1:])\n",
    "data_geonames['place_name_API'] = data_geonames['place_name_API'].apply(lambda x: \n",
    "                                x if x is np.nan else x.replace('_', ' '))\n",
    "display(data_geonames.head(3))\n",
    "print(data_geonames.shape)"
   ]
  }
 ],
 "metadata": {
  "interpreter": {
   "hash": "a7889eb58562ee9ffdda09723566893bd6ace7942a15cdee2d0c85a6ab5acc75"
  },
  "kernelspec": {
   "display_name": "Python 3.9.7 ('dhdsblend2021')",
   "language": "python",
   "name": "python3"
  },
  "language_info": {
   "codemirror_mode": {
    "name": "ipython",
    "version": 3
   },
   "file_extension": ".py",
   "mimetype": "text/x-python",
   "name": "python",
   "nbconvert_exporter": "python",
   "pygments_lexer": "ipython3",
   "version": "3.9.7"
  },
  "orig_nbformat": 4
 },
 "nbformat": 4,
 "nbformat_minor": 2
}
