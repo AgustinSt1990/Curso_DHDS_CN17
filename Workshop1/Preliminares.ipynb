{
 "cells": [
  {
   "cell_type": "code",
   "execution_count": 1,
   "metadata": {},
   "outputs": [],
   "source": [
    "import pandas as pd\n",
    "\n",
    "data = pd.read_csv(\"properatti.csv\")"
   ]
  },
  {
   "cell_type": "code",
   "execution_count": 2,
   "metadata": {},
   "outputs": [
    {
     "data": {
      "text/plain": [
       "Unnamed: 0                         0\n",
       "operation                          0\n",
       "property_type                      0\n",
       "place_name                        23\n",
       "place_with_parent_names            0\n",
       "country_name                       0\n",
       "state_name                         0\n",
       "geonames_id                    18717\n",
       "lat-lon                        51550\n",
       "lat                            51550\n",
       "lon                            51550\n",
       "price                          20410\n",
       "currency                       20411\n",
       "price_aprox_local_currency     20410\n",
       "price_aprox_usd                20410\n",
       "surface_total_in_m2            39328\n",
       "surface_covered_in_m2          19907\n",
       "price_usd_per_m2               52603\n",
       "price_per_m2                   33562\n",
       "floor                         113321\n",
       "rooms                          73830\n",
       "expenses                      106958\n",
       "properati_url                      0\n",
       "description                        2\n",
       "title                              0\n",
       "image_thumbnail                 3112\n",
       "dtype: int64"
      ]
     },
     "execution_count": 2,
     "metadata": {},
     "output_type": "execute_result"
    }
   ],
   "source": [
    "data.head()\n",
    "data.columns\n",
    "data.shape\n",
    "data.isna().sum()"
   ]
  }
 ],
 "metadata": {
  "interpreter": {
   "hash": "a7889eb58562ee9ffdda09723566893bd6ace7942a15cdee2d0c85a6ab5acc75"
  },
  "kernelspec": {
   "display_name": "Python 3.9.7 64-bit ('dhdsblend2021': conda)",
   "language": "python",
   "name": "python3"
  },
  "language_info": {
   "codemirror_mode": {
    "name": "ipython",
    "version": 3
   },
   "file_extension": ".py",
   "mimetype": "text/x-python",
   "name": "python",
   "nbconvert_exporter": "python",
   "pygments_lexer": "ipython3",
   "version": "3.9.7"
  },
  "orig_nbformat": 4
 },
 "nbformat": 4,
 "nbformat_minor": 2
}
