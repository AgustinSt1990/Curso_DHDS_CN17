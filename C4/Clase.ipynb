{
 "cells": [
  {
   "cell_type": "markdown",
   "id": "fc44d4ab-0bc8-4fe1-8bc0-1ff737f9e4b4",
   "metadata": {},
   "source": [
    "# Estadística descriptiva\n",
    "\n",
    "## ¿Qué vamos a ver hoy?\n",
    "\n",
    "### Estadística descriptiva\n",
    "\n",
    "Son herramientas que sirven para describir un conjunto de valores mediante algunas características del conjunto.\n",
    "\n",
    "Vamos a ver que es y como calcular:\n",
    "\n",
    "Maneras de buscar un valor representativo\n",
    "\n",
    "- Media\n",
    "- Mediana\n",
    "- Moda\n",
    "\n",
    "Maneras de cuantificar cuanto varian los valores\n",
    "\n",
    "- Rango\n",
    "- Varianza\n",
    "- Desviacion estandar\n",
    "- Coeficiente de variacion\n",
    "\n",
    "Maneras de ver si diferentes aspectos o variables se vinculan entre si.\n",
    "\n",
    "- Covarianza\n",
    "- Correlacion\n",
    "\n",
    "No vamos a ver hoy estaditica inferencial, es decir tratar de predecir que puede pasar o que probabilidad hay que de que sucedan cosas a partir de los datos conocidos.\n",
    "\n",
    "### Herramientas basicas de visualización\n",
    "\n",
    "No es el objetivo de la clase de hoy (hay mas de una clase que vamos a dedicar exclusivamente a eso), pero para ayudarnos a visualizar la infomacion vamos a ver como generar:\n",
    "\n",
    "- Graficos de lineas\n",
    "- Graficos de puntos\n",
    "- Histogramas\n",
    "\n",
    "## Idea de la clase\n",
    "\n",
    "- Arranacamos con una pequeña encuesta que vamos a usar de ejemplo durante la clase.\n",
    "- Vamos repasando con la presentacion las ideas y vamos probando implementar las ideas en los datos de la encuesta.\n",
    "- Despues del ejemplo en conjunto queda el hands-on para que practiquen en clase (esperemos llegar)."
   ]
  },
  {
   "cell_type": "markdown",
   "id": "ded63962-0235-41fb-9382-06ef1cd3fe92",
   "metadata": {},
   "source": [
    "# La encuesta....\n",
    "\n",
    "https://forms.gle/JgpooKWc2L9vg5pn9"
   ]
  }
 ],
 "metadata": {
  "kernelspec": {
   "display_name": "Python 3 (ipykernel)",
   "language": "python",
   "name": "python3"
  },
  "language_info": {
   "codemirror_mode": {
    "name": "ipython",
    "version": 3
   },
   "file_extension": ".py",
   "mimetype": "text/x-python",
   "name": "python",
   "nbconvert_exporter": "python",
   "pygments_lexer": "ipython3",
   "version": "3.7.3"
  }
 },
 "nbformat": 4,
 "nbformat_minor": 5
}
