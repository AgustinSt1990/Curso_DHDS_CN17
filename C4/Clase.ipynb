{
 "cells": [
  {
   "cell_type": "markdown",
   "id": "fc44d4ab-0bc8-4fe1-8bc0-1ff737f9e4b4",
   "metadata": {},
   "source": [
    "# Estadística descriptiva\n",
    "\n",
    "## ¿Qué vamos a ver hoy?\n",
    "\n",
    "### Estadística descriptiva\n",
    "\n",
    "Son herramientas que sirven para describir un conjunto de valores mediante algunas características del conjunto.\n",
    "\n",
    "Vamos a ver que es y como calcular:\n",
    "\n",
    "Maneras de buscar un valor representativo\n",
    "\n",
    "- Media\n",
    "- Mediana\n",
    "- Moda\n",
    "\n",
    "Maneras de cuantificar cuanto varian los valores\n",
    "\n",
    "- Rango\n",
    "- Varianza\n",
    "- Desviacion estandar\n",
    "- Coeficiente de variacion\n",
    "\n",
    "Maneras de ver si diferentes aspectos o variables se vinculan entre si.\n",
    "\n",
    "- Covarianza\n",
    "- Correlacion\n",
    "\n",
    "No vamos a ver hoy estaditica inferencial, es decir tratar de predecir que puede pasar o que probabilidad hay que de que sucedan cosas a partir de los datos conocidos.\n",
    "\n",
    "### Herramientas basicas de visualización\n",
    "\n",
    "No es el objetivo de la clase de hoy (hay mas de una clase que vamos a dedicar exclusivamente a eso), pero para ayudarnos a visualizar la infomacion vamos a ver como generar:\n",
    "\n",
    "- Graficos de lineas\n",
    "- Graficos de puntos\n",
    "- Histogramas\n",
    "\n",
    "## Idea de la clase\n",
    "\n",
    "- Arranacamos con una pequeña encuesta que vamos a usar de ejemplo durante la clase.\n",
    "- Vamos repasando con la presentacion las ideas y vamos probando implementar las ideas en los datos de la encuesta.\n",
    "- Despues del ejemplo en conjunto queda el hands-on para que practiquen en clase (esperemos llegar)."
   ]
  },
  {
   "cell_type": "markdown",
   "id": "ded63962-0235-41fb-9382-06ef1cd3fe92",
   "metadata": {},
   "source": [
    "# La encuesta....\n",
    "\n",
    "https://forms.gle/JgpooKWc2L9vg5pn9"
   ]
  },
  {
   "cell_type": "code",
   "execution_count": 1,
   "id": "409ed835-e23d-4aed-98e5-db9912069e29",
   "metadata": {},
   "outputs": [],
   "source": [
    "import numpy as np"
   ]
  },
  {
   "cell_type": "code",
   "execution_count": 28,
   "id": "4210db32-7a5b-455e-ae56-168b9fa1ac3a",
   "metadata": {},
   "outputs": [
    {
     "name": "stdout",
     "output_type": "stream",
     "text": [
      "[172. 190. 178. 177. 156. 183. 168. 181. 185. 178. 160. 174. 174. 183.\n",
      " 170. 163. 168. 173. 176. 175. 160. 164. 174. 168. 170. 168. 163. 165.\n",
      " 158. 150. 171. 178. 162.]\n",
      "[ 65.  83. 132.  80.  75.  73.  68.  71.  80.  76.  62.  71.  93.  98.\n",
      "  80.  67.  60.  64.  86.  67.  57.  75.  76.  68.  77.  69.  70.  55.\n",
      "  47.  51.  75.  76.  50.]\n"
     ]
    }
   ],
   "source": [
    "filename = \"Formulario C4.csv\"\n",
    "data_cruda = np.genfromtxt(filename, delimiter=\",\", dtype=str) # Notar que si no ponemos el separador correcto tira error. Y si no ponemos dtype lee todo como vacio.\n",
    "data_cruda\n",
    "\n",
    "alturas = data_cruda[1:,1].astype(float) # Seleccionamos la columna 1 desde la fila uno hasta el final\n",
    "print (alturas)\n",
    "\n",
    "pesos = data_cruda[1:,2].astype(float) # Seleccionamos la columna 1 desde la fila uno hasta el final\n",
    "print (pesos)\n",
    "\n"
   ]
  },
  {
   "cell_type": "code",
   "execution_count": 29,
   "id": "6435172e-f6fe-4775-b6a6-60966cde54e8",
   "metadata": {},
   "outputs": [
    {
     "name": "stdout",
     "output_type": "stream",
     "text": [
      "El valor medio para las alturas del curso es: 170.75757575757575\n",
      "El valor medio para los pesos del curso es: 72.63636363636364\n",
      "La mediana para las alturas del curso es: 171.0\n",
      "La mediana para los pesos del curso es: 71.0\n",
      "La moda para las alturas del curso es: ModeResult(mode=array([168.]), count=array([4]))\n"
     ]
    }
   ],
   "source": [
    "# Calculamos la media, la mediana y la moda para las columnas\n",
    "\n",
    "print (f'El valor medio para las alturas del curso es: {np.mean(alturas)}')\n",
    "print (f'El valor medio para los pesos del curso es: {np.mean(pesos)}')\n",
    "\n",
    "print (f'La mediana para las alturas del curso es: {np.median(alturas)}')\n",
    "print (f'La mediana para los pesos del curso es: {np.median(pesos)}')\n",
    "\n",
    "\n",
    "# numpy no tiene un metodo para calcular la moda!!!!!\n",
    "\n",
    "# Pero otra libreria como scipy si\n",
    "\n",
    "from scipy import stats # No funciona import scipy y usar scipy.stats\n",
    "\n",
    "print (f'La moda para las alturas del curso es: {stats.mode(alturas)}') # Vemos que no tiene mucho sentido!\n"
   ]
  },
  {
   "cell_type": "code",
   "execution_count": 10,
   "id": "d6c63b32-049b-4082-8b5e-573646e23d8d",
   "metadata": {},
   "outputs": [],
   "source": [
    "import seaborn as sns"
   ]
  },
  {
   "cell_type": "code",
   "execution_count": 30,
   "id": "c2bb6637-ac00-4b63-9ca5-263eac480028",
   "metadata": {},
   "outputs": [
    {
     "data": {
      "text/plain": [
       "<AxesSubplot:>"
      ]
     },
     "execution_count": 30,
     "metadata": {},
     "output_type": "execute_result"
    },
    {
     "data": {
      "image/png": "[encoded data removed]",
      "text/plain": [
       "<Figure size 432x288 with 1 Axes>"
      ]
     },
     "metadata": {
      "needs_background": "light"
     },
     "output_type": "display_data"
    }
   ],
   "source": [
    "# Hacer un grafico tipo \"comun\"\n",
    "\n",
    "sns.lineplot(data = alturas)\n",
    "sns.lineplot(data = pesos)"
   ]
  },
  {
   "cell_type": "code",
   "execution_count": 31,
   "id": "681b9977-24e2-4f3d-a7fd-dd3acc5dc138",
   "metadata": {},
   "outputs": [
    {
     "data": {
      "text/plain": [
       "<AxesSubplot:>"
      ]
     },
     "execution_count": 31,
     "metadata": {},
     "output_type": "execute_result"
    },
    {
     "data": {
      "image/png": "[encoded data removed]",
      "text/plain": [
       "<Figure size 432x288 with 1 Axes>"
      ]
     },
     "metadata": {
      "needs_background": "light"
     },
     "output_type": "display_data"
    }
   ],
   "source": [
    "sns.scatterplot(x = alturas, y = pesos)\n"
   ]
  },
  {
   "cell_type": "code",
   "execution_count": 32,
   "id": "950d202f-fb7b-4eab-a326-d657c714129b",
   "metadata": {},
   "outputs": [
    {
     "data": {
      "text/plain": [
       "<AxesSubplot:ylabel='Count'>"
      ]
     },
     "execution_count": 32,
     "metadata": {},
     "output_type": "execute_result"
    },
    {
     "data": {
      "image/png": "[encoded data removed]",
      "text/plain": [
       "<Figure size 432x288 with 1 Axes>"
      ]
     },
     "metadata": {
      "needs_background": "light"
     },
     "output_type": "display_data"
    }
   ],
   "source": [
    "sns.histplot(pesos)"
   ]
  },
  {
   "cell_type": "code",
   "execution_count": 33,
   "id": "9548f21e-1c70-49dd-bf3f-3bd4fb358b29",
   "metadata": {},
   "outputs": [
    {
     "data": {
      "text/plain": [
       "<AxesSubplot:ylabel='Count'>"
      ]
     },
     "execution_count": 33,
     "metadata": {},
     "output_type": "execute_result"
    },
    {
     "data": {
      "image/png": "[encoded data removed]",
      "text/plain": [
       "<Figure size 432x288 with 1 Axes>"
      ]
     },
     "metadata": {
      "needs_background": "light"
     },
     "output_type": "display_data"
    }
   ],
   "source": [
    "sns.histplot(alturas)"
   ]
  },
  {
   "cell_type": "code",
   "execution_count": 34,
   "id": "ed91559c-b869-4f0a-992b-8cfcd3302296",
   "metadata": {},
   "outputs": [
    {
     "name": "stdout",
     "output_type": "stream",
     "text": [
      "El rango de alturas va de: 190.0cm a 150.0cm, es decir que la alturas cubren un rango de 40.0cm.\n",
      "[177. 164.]\n",
      "El 50% de las alturas mas comunes estan entre: 164.0cm y 177.0cm.\n"
     ]
    }
   ],
   "source": [
    "print (f'El rango de alturas va de: {np.max(alturas)}cm a {np.min(alturas)}cm, es decir que la alturas cubren un rango de {np.max(alturas)-np.min(alturas)}cm.' )\n",
    "\n",
    "# Ahora queremos saber donde esta el 50% de las alturas mas comunes\n",
    "# Numpy tiene una funcion que separa en partes ordenando\n",
    "\n",
    "print (np.percentile(alturas, [75,25]))\n",
    "\n",
    "\n",
    "print (f'El 50% de las alturas mas comunes estan entre: {np.percentile(alturas, [75 ,25])[1]}cm y {np.percentile(alturas, [75 ,25])[0]}cm.')\n",
    "\n"
   ]
  },
  {
   "cell_type": "code",
   "execution_count": 36,
   "id": "7ba529df-2c44-43bb-89a2-b90326888b87",
   "metadata": {},
   "outputs": [
    {
     "name": "stdout",
     "output_type": "stream",
     "text": [
      "La viarianza en las alturas es de: 79.03213957759414cm^2\n",
      "La desviacion estandar es de: 8.890002225961146cm\n"
     ]
    }
   ],
   "source": [
    "# Como pedirle a numpy que nos calcule la varianza\n",
    "\n",
    "print (f'La viarianza en las alturas es de: {np.var(alturas)}cm^2')\n",
    "print (f'La desviacion estandar es de: {np.std(alturas)}cm')"
   ]
  },
  {
   "cell_type": "code",
   "execution_count": 41,
   "id": "2769af93-06a6-4c55-bcf5-06f420b06a9e",
   "metadata": {},
   "outputs": [
    {
     "name": "stdout",
     "output_type": "stream",
     "text": [
      "31\n",
      "El porcenaje de valores que caen dentro del rango indicado es: 93.93939393939394%\n"
     ]
    }
   ],
   "source": [
    "# Vamos a calcular que porcentaje de los valores caen dentro de una desviacion estandar de la media\n",
    "\n",
    "n = 2\n",
    "sd = np.std(alturas)\n",
    "mean = np.mean(alturas)\n",
    "\n",
    "mascara = (mean - n * sd < alturas) & (alturas < mean + n * sd)\n",
    "#print (alturas[mascara])\n",
    "print (mascara.sum())\n",
    "print (f'El porcenaje de valores que caen dentro del rango indicado es: {mascara.sum()/len(mascara)*100}%')\n"
   ]
  },
  {
   "cell_type": "code",
   "execution_count": 47,
   "id": "582b6899-be4e-40c0-8153-c495b86cec11",
   "metadata": {},
   "outputs": [
    {
     "name": "stdout",
     "output_type": "stream",
     "text": [
      "La desviacion estandar de las alturas es 8.890002225961146cm, y su valor medio es 170.75757575757575cm. Su ceoficiente de variación es 0.05206212483703954\n",
      "La desviacion estandar de los pesos es 15.405269035287466Kg, y su valor medio es 72.63636363636364Kg. Su ceoficiente de variación es 0.21208755868355708\n"
     ]
    }
   ],
   "source": [
    "# Comparando variabilidades entre dos variables\n",
    "\n",
    "print (f'La desviacion estandar de las alturas es {np.std(alturas)}cm, y su valor medio es {np.mean(alturas)}cm. Su ceoficiente de variación es {coef_var(alturas)}')\n",
    "print (f'La desviacion estandar de los pesos es {np.std(pesos)}Kg, y su valor medio es {np.mean(pesos)}Kg. Su ceoficiente de variación es {np.std(pesos)/np.mean(pesos)}')"
   ]
  },
  {
   "cell_type": "code",
   "execution_count": 50,
   "id": "675554c4-1f13-4894-bc70-822e85554d4b",
   "metadata": {},
   "outputs": [
    {
     "name": "stdout",
     "output_type": "stream",
     "text": [
      "[-3. -3. -3. -3.  3. -3. -3. -3. -3. -3.  3. -3. -3. -3. -3.  3.  3.  3.\n",
      " -3. -3.  3.  3. -3. -3. -3. -3. -3.  3.  3.  3. -3. -3.  3.]\n",
      "[ 5.  5.  6.  8.  5.  8.  6.  7.  8.  8.  8.  7.  6.  6.  5.  8.  7.  6.\n",
      "  7.  7.  3.  7. 13.  7.  5.  8.  8.  7.  7.  6.  5.  8.  6.]\n"
     ]
    }
   ],
   "source": [
    "# Repasemos los graficos pero ahora vamos a agregar las columnas genero y nombre\n",
    "\n",
    "sexo = data_cruda[1:,3]\n",
    "sexo[sexo==\"Varon\"] = \"-3\"\n",
    "sexo[sexo==\"Mujer\"] = \"3\"\n",
    "sexo = sexo.astype(float)\n",
    "print (sexo)\n",
    "\n",
    "letras = data_cruda[1:,4].astype(float) # Seleccionamos la columna 1 desde la fila uno hasta el final\n",
    "print (letras)\n"
   ]
  },
  {
   "cell_type": "code",
   "execution_count": 46,
   "id": "322741dc-0e17-4559-b60e-3aa721c05bb3",
   "metadata": {},
   "outputs": [],
   "source": [
    "def coef_var(data):\n",
    "    return np.std(data)/np.mean(data)"
   ]
  },
  {
   "cell_type": "markdown",
   "id": "f1e11626-4549-4202-a7a0-07ee0b566e7d",
   "metadata": {},
   "source": [
    "### Comparamos alturas con pesos"
   ]
  },
  {
   "cell_type": "code",
   "execution_count": 55,
   "id": "06b7fea1-b5de-4b02-890d-9244a091c656",
   "metadata": {},
   "outputs": [
    {
     "data": {
      "text/plain": [
       "<AxesSubplot:>"
      ]
     },
     "execution_count": 55,
     "metadata": {},
     "output_type": "execute_result"
    },
    {
     "data": {
      "image/png": "[encoded data removed]",
      "text/plain": [
       "<Figure size 432x288 with 1 Axes>"
      ]
     },
     "metadata": {
      "needs_background": "light"
     },
     "output_type": "display_data"
    }
   ],
   "source": [
    "sns.scatterplot(x = alturas, y = pesos, hue=sexo)"
   ]
  },
  {
   "cell_type": "code",
   "execution_count": 58,
   "id": "dfb6697a-b448-47e9-8f41-4ec0211bc0e2",
   "metadata": {},
   "outputs": [
    {
     "name": "stdout",
     "output_type": "stream",
     "text": [
      "Matriz con los datos\n",
      "[array([172., 190., 178., 177., 156., 183., 168., 181., 185., 178., 160.,\n",
      "       174., 174., 183., 170., 163., 168., 173., 176., 175., 160., 164.,\n",
      "       174., 168., 170., 168., 163., 165., 158., 150., 171., 178., 162.]), array([ 65.,  83., 132.,  80.,  75.,  73.,  68.,  71.,  80.,  76.,  62.,\n",
      "        71.,  93.,  98.,  80.,  67.,  60.,  64.,  86.,  67.,  57.,  75.,\n",
      "        76.,  68.,  77.,  69.,  70.,  55.,  47.,  51.,  75.,  76.,  50.]), array([-3., -3., -3., -3.,  3., -3., -3., -3., -3., -3.,  3., -3., -3.,\n",
      "       -3., -3.,  3.,  3.,  3., -3., -3.,  3.,  3., -3., -3., -3., -3.,\n",
      "       -3.,  3.,  3.,  3., -3., -3.,  3.]), array([ 5.,  5.,  6.,  8.,  5.,  8.,  6.,  7.,  8.,  8.,  8.,  7.,  6.,\n",
      "        6.,  5.,  8.,  7.,  6.,  7.,  7.,  3.,  7., 13.,  7.,  5.,  8.,\n",
      "        8.,  7.,  7.,  6.,  5.,  8.,  6.])]\n",
      "[[ 7.90321396e+01  8.03057851e+01 -1.80606061e+01  2.39577594e+00]\n",
      " [ 8.03057851e+01  2.37322314e+02 -2.47272727e+01 -1.18457300e-01]\n",
      " [-1.80606061e+01 -2.47272727e+01  8.00000000e+00 -7.87878788e-01]\n",
      " [ 2.39577594e+00 -1.18457300e-01 -7.87878788e-01  2.72910927e+00]]\n",
      "[[ 1.          0.58637531 -0.71826624  0.16313001]\n",
      " [ 0.58637531  1.         -0.56749487 -0.0046546 ]\n",
      " [-0.71826624 -0.56749487  1.         -0.16861801]\n",
      " [ 0.16313001 -0.0046546  -0.16861801  1.        ]]\n"
     ]
    }
   ],
   "source": [
    "# Armamos la matriz con todos los datos\n",
    "\n",
    "datos = [alturas,pesos,sexo,letras]\n",
    "print (\"Matriz con los datos\")\n",
    "print (datos)\n",
    "\n",
    "#print (np.var(datos[0]))\n",
    "datos2 = np.transpose(datos)\n",
    "print (np.cov(datos,ddof=0))\n",
    "print (np.corrcoef(datos))"
   ]
  }
 ],
 "metadata": {
  "kernelspec": {
   "display_name": "Python 3 (ipykernel)",
   "language": "python",
   "name": "python3"
  },
  "language_info": {
   "codemirror_mode": {
    "name": "ipython",
    "version": 3
   },
   "file_extension": ".py",
   "mimetype": "text/x-python",
   "name": "python",
   "nbconvert_exporter": "python",
   "pygments_lexer": "ipython3",
   "version": "3.7.3"
  }
 },
 "nbformat": 4,
 "nbformat_minor": 5
}
