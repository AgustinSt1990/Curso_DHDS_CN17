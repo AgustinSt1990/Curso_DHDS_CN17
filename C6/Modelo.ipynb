{
 "cells": [
  {
   "cell_type": "markdown",
   "metadata": {},
   "source": [
    "# ¿Que vamos a ver hoy?\n",
    "\n",
    "## Nociones de eventos y variables estadísticas\n",
    "\n",
    "- Ejemplo discreto: DNI y cartas \n",
    "- Ejemplo continuo: largo de lápices\n",
    "  \n",
    "## Nociones de funciones de distribución y de densidad de distribución\n",
    "\n",
    "- Función uniforme, continua y discreta.\n",
    "- Bernoulli, discreta. \n",
    "- Binomial, discreta.\n",
    "- Poisson, discreta con T y $\\lambda$ parametros continuos.\n",
    "- Exponencial, continua.\n",
    "- Normal/gaussiana, continua.\n"
   ]
  },
  {
   "cell_type": "markdown",
   "metadata": {},
   "source": [
    "# Hagamos un experimento\n",
    "\n",
    "- Pregunta x paridad de nro de documento.\n",
    "- Pasar a presentación \n",
    "- Charlamos idea de probabilidad discreta.\n",
    "- Pedir que midan los lapices"
   ]
  },
  {
   "cell_type": "code",
   "execution_count": 1,
   "metadata": {},
   "outputs": [],
   "source": [
    "import numpy as np\n",
    "import seaborn as sns"
   ]
  },
  {
   "cell_type": "code",
   "execution_count": 7,
   "metadata": {},
   "outputs": [],
   "source": [
    "# Vamos a hacer un ejemplo con codigo de lo que queremos ver en el ejemplo de los DNI\n",
    "\n",
    "def contar_n_muestras(nro_muestras, opciones = [\"par\",\"impar\"], buscado = \"par\"):\n",
    "    if not buscado in opciones:\n",
    "        raise ValueError(f'El valor buscado {str(buscado)} no esta entre los especificados en las opciones a elegir: {str(opciones)}.') # Ponemos esto porque sino no va a dar error, simplemente va a funcionar mal dando que siempre encuentra cero coincidencias\n",
    "    resultado = np.random.choice(opciones,nro_muestras)\n",
    "    coincidencias = resultado == buscado\n",
    "    return coincidencias.sum()\n",
    "\n",
    "def hacer_n_experinmentos(nro_muestras, nro_experimentos, opciones = None, buscado = None):\n",
    "    resultado = []\n",
    "    for i in range(nro_experimentos):\n",
    "        if opciones:\n",
    "            if buscado:\n",
    "                elemento = contar_n_muestras(nro_muestras, opciones = opciones, buscado = buscado)\n",
    "            else:\n",
    "                elemento = contar_n_muestras(nro_muestras, opciones = opciones)\n",
    "        else:\n",
    "            if buscado:\n",
    "                elemento = contar_n_muestras(nro_muestras, buscado = buscado)\n",
    "            else:\n",
    "                elemento = contar_n_muestras(nro_muestras)\n",
    "        resultado = resultado + [elemento]\n",
    "    return resultado\n",
    "\n",
    "\n",
    "    "
   ]
  },
  {
   "cell_type": "code",
   "execution_count": 5,
   "metadata": {},
   "outputs": [
    {
     "name": "stderr",
     "output_type": "stream",
     "text": [
      "C:\\Anaconda3\\lib\\site-packages\\seaborn\\_decorators.py:43: FutureWarning: Pass the following variables as keyword args: x, y. From version 0.12, the only valid positional argument will be `data`, and passing other arguments without an explicit keyword will result in an error or misinterpretation.\n",
      "  FutureWarning\n"
     ]
    },
    {
     "data": {
      "text/plain": [
       "<AxesSubplot:>"
      ]
     },
     "execution_count": 5,
     "metadata": {},
     "output_type": "execute_result"
    },
    {
     "data": {
      "image/png": "[encoded data removed]",
      "text/plain": [
       "<Figure size 432x288 with 1 Axes>"
      ]
     },
     "metadata": {
      "needs_background": "light"
     },
     "output_type": "display_data"
    }
   ],
   "source": [
    "nro_muestras = 2\n",
    "nro_experimentos = 10\n",
    "unique, counts = np.unique(hacer_n_experinmentos(nro_muestras,nro_experimentos), return_counts=True)\n",
    "#print (unique)\n",
    "#print (counts)\n",
    "sns.barplot(unique, counts/counts.sum())"
   ]
  },
  {
   "cell_type": "code",
   "execution_count": 17,
   "metadata": {},
   "outputs": [
    {
     "name": "stderr",
     "output_type": "stream",
     "text": [
      "C:\\Anaconda3\\lib\\site-packages\\seaborn\\_decorators.py:43: FutureWarning: Pass the following variables as keyword args: x, y. From version 0.12, the only valid positional argument will be `data`, and passing other arguments without an explicit keyword will result in an error or misinterpretation.\n",
      "  FutureWarning\n"
     ]
    },
    {
     "data": {
      "text/plain": [
       "<AxesSubplot:>"
      ]
     },
     "execution_count": 17,
     "metadata": {},
     "output_type": "execute_result"
    },
    {
     "data": {
      "image/png": "[encoded data removed]",
      "text/plain": [
       "<Figure size 432x288 with 1 Axes>"
      ]
     },
     "metadata": {
      "needs_background": "light"
     },
     "output_type": "display_data"
    }
   ],
   "source": [
    "nro_muestras = 1\n",
    "nro_experimentos = 10\n",
    "unique, counts = np.unique(hacer_n_experinmentos(nro_muestras,nro_experimentos,opciones = [1,2,3,4,5,6], buscado = 1), return_counts=True)\n",
    "#print (unique)\n",
    "#print (counts)\n",
    "sns.barplot(unique, counts/counts.sum())"
   ]
  },
  {
   "cell_type": "code",
   "execution_count": 23,
   "metadata": {},
   "outputs": [],
   "source": [
    "# Vamos a ver como procesar la info de los lapices.\n",
    "\n",
    "largos = [15,14.9,13,16.3,15.3,20,10,15.1,14.8,17.4,13.6]\n"
   ]
  },
  {
   "cell_type": "code",
   "execution_count": 24,
   "metadata": {},
   "outputs": [
    {
     "name": "stdout",
     "output_type": "stream",
     "text": [
      "[15.  14.9 13.  16.3 15.3 20.  10.  15.1 14.8 17.4 13.6]\n"
     ]
    },
    {
     "name": "stderr",
     "output_type": "stream",
     "text": [
      "C:\\Anaconda3\\lib\\site-packages\\seaborn\\_decorators.py:43: FutureWarning: Pass the following variables as keyword args: x, y. From version 0.12, the only valid positional argument will be `data`, and passing other arguments without an explicit keyword will result in an error or misinterpretation.\n",
      "  FutureWarning\n"
     ]
    },
    {
     "data": {
      "text/plain": [
       "<AxesSubplot:>"
      ]
     },
     "execution_count": 24,
     "metadata": {},
     "output_type": "execute_result"
    },
    {
     "data": {
      "image/png": "[encoded data removed]",
      "text/plain": [
       "<Figure size 432x288 with 1 Axes>"
      ]
     },
     "metadata": {
      "needs_background": "light"
     },
     "output_type": "display_data"
    }
   ],
   "source": [
    "data = np.array(largos)\n",
    "print (data)\n",
    "# hagamos lo mismo:\n",
    "unique, counts = np.unique(data, return_counts=True)\n",
    "sns.barplot(unique, counts/counts.sum())"
   ]
  },
  {
   "cell_type": "markdown",
   "metadata": {},
   "source": [
    "# Preguntas para pensar\n",
    "- ¿Cual es la probabilidad de que un lapiz mida 15.2?\n",
    "- ¿Y que mida 12?\n",
    "- ¿Son la misma?"
   ]
  },
  {
   "cell_type": "code",
   "execution_count": 32,
   "metadata": {},
   "outputs": [
    {
     "name": "stderr",
     "output_type": "stream",
     "text": [
      "C:\\Anaconda3\\lib\\site-packages\\seaborn\\_decorators.py:43: FutureWarning: Pass the following variables as keyword args: x, y. From version 0.12, the only valid positional argument will be `data`, and passing other arguments without an explicit keyword will result in an error or misinterpretation.\n",
      "  FutureWarning\n"
     ]
    },
    {
     "data": {
      "image/png": "[encoded data removed]",
      "text/plain": [
       "<Figure size 432x288 with 1 Axes>"
      ]
     },
     "metadata": {
      "needs_background": "light"
     },
     "output_type": "display_data"
    }
   ],
   "source": [
    "data.sort()\n",
    "x = np.arange(len(data))\n",
    "grafico = sns.scatterplot(x,data)\n"
   ]
  },
  {
   "cell_type": "code",
   "execution_count": 57,
   "metadata": {},
   "outputs": [
    {
     "name": "stdout",
     "output_type": "stream",
     "text": [
      "La probabilidad de que el valor este entre 14.5 y 15.5 es 45.45454545454545%\n"
     ]
    },
    {
     "name": "stderr",
     "output_type": "stream",
     "text": [
      "C:\\Anaconda3\\lib\\site-packages\\seaborn\\_decorators.py:43: FutureWarning: Pass the following variables as keyword args: x, y. From version 0.12, the only valid positional argument will be `data`, and passing other arguments without an explicit keyword will result in an error or misinterpretation.\n",
      "  FutureWarning\n"
     ]
    },
    {
     "data": {
      "text/plain": [
       "<matplotlib.lines.Line2D at 0x1db47b634a8>"
      ]
     },
     "execution_count": 57,
     "metadata": {},
     "output_type": "execute_result"
    },
    {
     "data": {
      "image/png": "[encoded data removed]",
      "text/plain": [
       "<Figure size 432x288 with 1 Axes>"
      ]
     },
     "metadata": {
      "needs_background": "light"
     },
     "output_type": "display_data"
    }
   ],
   "source": [
    "# Cual es la probabilidad de que el valor del largo este entre 10 y 12?\n",
    "\n",
    "cota_sup = 15.5\n",
    "cota_inf = 14.5\n",
    "\n",
    "condicion = (cota_inf < data) & (data <= cota_sup)\n",
    "# La probabilidad son los caso favorables sobre los totales\n",
    "print (f'La probabilidad de que el valor este entre {cota_inf} y {cota_sup} es {condicion.sum()/len(condicion)*100}%')\n",
    "grafico = sns.scatterplot(x,data)\n",
    "grafico.axhline(cota_sup)\n",
    "grafico.axhline(cota_inf)"
   ]
  },
  {
   "cell_type": "code",
   "execution_count": 64,
   "metadata": {},
   "outputs": [
    {
     "name": "stderr",
     "output_type": "stream",
     "text": [
      "C:\\Anaconda3\\lib\\site-packages\\seaborn\\_decorators.py:43: FutureWarning: Pass the following variables as keyword args: x, y. From version 0.12, the only valid positional argument will be `data`, and passing other arguments without an explicit keyword will result in an error or misinterpretation.\n",
      "  FutureWarning\n"
     ]
    },
    {
     "data": {
      "image/png": "[encoded data removed]",
      "text/plain": [
       "<Figure size 432x288 with 1 Axes>"
      ]
     },
     "metadata": {
      "needs_background": "light"
     },
     "output_type": "display_data"
    }
   ],
   "source": [
    "# Vamos a contruir la probabilidad acumulada\n",
    "paso = 0.1\n",
    "\n",
    "probabilidad_acumulada = []\n",
    "\n",
    "for deslizador in np.arange(data.min()-paso,data.max()+paso,paso):\n",
    "    condicion = (limite_inf < data) & (data <= deslizador)\n",
    "    probabilidad_acumulada.append(condicion.sum()/len(condicion)*100)\n",
    "    \n",
    "grafico = sns.lineplot(np.arange(data.min()-paso,data.max()+paso,paso),probabilidad_acumulada)"
   ]
  },
  {
   "cell_type": "code",
   "execution_count": 68,
   "metadata": {},
   "outputs": [
    {
     "name": "stderr",
     "output_type": "stream",
     "text": [
      "C:\\Anaconda3\\lib\\site-packages\\seaborn\\_decorators.py:43: FutureWarning: Pass the following variables as keyword args: x, y. From version 0.12, the only valid positional argument will be `data`, and passing other arguments without an explicit keyword will result in an error or misinterpretation.\n",
      "  FutureWarning\n"
     ]
    },
    {
     "data": {
      "image/png": "[encoded data removed]",
      "text/plain": [
       "<Figure size 432x288 with 1 Axes>"
      ]
     },
     "metadata": {
      "needs_background": "light"
     },
     "output_type": "display_data"
    }
   ],
   "source": [
    "# Vamos a construir la densidad de probabilidad\n",
    "paso = 3\n",
    "\n",
    "densidad_probabilidad = []\n",
    "for deslizador in np.arange(data.min()-paso,data.max()+paso,paso):\n",
    "    condicion = (deslizador - paso/2 < data) & (data <= deslizador + paso/2)\n",
    "    densidad_probabilidad.append(condicion.sum()/len(condicion)*100) \n",
    "    \n",
    "grafico = sns.barplot(np.arange(data.min()-paso,data.max()+paso,paso),densidad_probabilidad)"
   ]
  }
 ],
 "metadata": {
  "interpreter": {
   "hash": "a7889eb58562ee9ffdda09723566893bd6ace7942a15cdee2d0c85a6ab5acc75"
  },
  "kernelspec": {
   "display_name": "Python 3 (ipykernel)",
   "language": "python",
   "name": "python3"
  },
  "language_info": {
   "codemirror_mode": {
    "name": "ipython",
    "version": 3
   },
   "file_extension": ".py",
   "mimetype": "text/x-python",
   "name": "python",
   "nbconvert_exporter": "python",
   "pygments_lexer": "ipython3",
   "version": "3.7.3"
  }
 },
 "nbformat": 4,
 "nbformat_minor": 4
}
