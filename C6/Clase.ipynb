{
 "cells": [
  {
   "cell_type": "markdown",
   "id": "3c7910b3-39fc-49ff-9c01-ab8145f3ad17",
   "metadata": {},
   "source": [
    "# ¿Que vamos a ver hoy?\n",
    "\n",
    "## Nociones de eventos y variables estadísticas\n",
    "\n",
    "- Ejemplo discreto: DNI y cartas \n",
    "- Ejemplo continuo: largo de lápices\n",
    "  \n",
    "## Nociones de funciones de distribución y de densidad de distribución\n",
    "\n",
    "- Función uniforme, continua y discreta.\n",
    "- Bernoulli, discreta. \n",
    "- Binomial, discreta.\n",
    "- Poisson, discreta con T y $\\lambda$ parametros continuos.\n",
    "- Exponencial, continua.\n",
    "- Normal/gaussiana, continua."
   ]
  },
  {
   "cell_type": "code",
   "execution_count": 1,
   "id": "ff55e5ba-1561-45ee-949f-e56f9ebf61b9",
   "metadata": {},
   "outputs": [],
   "source": [
    "import numpy as np\n",
    "import seaborn as sns"
   ]
  },
  {
   "cell_type": "code",
   "execution_count": 31,
   "id": "aea6752d-6004-4a3f-8531-603dbc3d3a96",
   "metadata": {},
   "outputs": [
    {
     "name": "stdout",
     "output_type": "stream",
     "text": [
      "par\n"
     ]
    }
   ],
   "source": [
    "opciones = [\"par\",\"impar\"]\n",
    "\n",
    "if np.random.random() < 0.5:\n",
    "    print (opciones[0])\n",
    "else:\n",
    "    print (opciones[1])"
   ]
  },
  {
   "cell_type": "code",
   "execution_count": 46,
   "id": "e4fd3b3e-9401-44fc-8fd0-d7d1dafb020a",
   "metadata": {},
   "outputs": [],
   "source": [
    "def contar_n_muestras(nro_muestras, opciones = [\"par\",\"impar\"], buscado = \"par\"):\n",
    "    resultado = np.random.choice(opciones,nro_muestras)\n",
    "    coincidencias = resultado == buscado\n",
    "    return coincidencias.sum()\n",
    "    \n",
    "def hacer_n_experinmentos(nro_muestras, nro_experimentos, opciones = [\"par\",\"impar\"], buscado = \"par\"):\n",
    "    resultado = []\n",
    "    for i in range(nro_experimentos):\n",
    "        experimento = contar_n_muestras(nro_muestras, opciones = opciones, buscado = buscado)\n",
    "        resultado.append(experimento)\n",
    "    return resultado\n",
    "\n",
    "    "
   ]
  },
  {
   "cell_type": "code",
   "execution_count": 47,
   "id": "7bea78a1-1454-441f-9cca-720f797ba08a",
   "metadata": {},
   "outputs": [
    {
     "data": {
      "text/plain": [
       "[2, 0, 4, 2, 3, 1, 2, 1, 2, 2]"
      ]
     },
     "execution_count": 47,
     "metadata": {},
     "output_type": "execute_result"
    }
   ],
   "source": [
    "hacer_n_experinmentos(4,10)"
   ]
  },
  {
   "cell_type": "code",
   "execution_count": 74,
   "id": "e3a4a786-270c-407f-a2b7-fce36fed2ead",
   "metadata": {},
   "outputs": [
    {
     "name": "stderr",
     "output_type": "stream",
     "text": [
      "C:\\Anaconda3\\lib\\site-packages\\seaborn\\_decorators.py:43: FutureWarning: Pass the following variables as keyword args: x, y. From version 0.12, the only valid positional argument will be `data`, and passing other arguments without an explicit keyword will result in an error or misinterpretation.\n",
      "  FutureWarning\n"
     ]
    },
    {
     "data": {
      "text/plain": [
       "<AxesSubplot:>"
      ]
     },
     "execution_count": 74,
     "metadata": {},
     "output_type": "execute_result"
    },
    {
     "data": {
      "image/png": "[encoded data removed]",
      "text/plain": [
       "<Figure size 432x288 with 1 Axes>"
      ]
     },
     "metadata": {
      "needs_background": "light"
     },
     "output_type": "display_data"
    }
   ],
   "source": [
    "nro_muestras = 20\n",
    "nro_experimentos = 10000\n",
    "exp = hacer_n_experinmentos(nro_muestras,nro_experimentos)\n",
    "unique, counts = np.unique(exp, return_counts=True)\n",
    "sns.barplot(unique, counts/counts.sum()*100)"
   ]
  },
  {
   "cell_type": "code",
   "execution_count": 50,
   "id": "b7af9bc4-8b10-4e7f-97f5-44deb94611a0",
   "metadata": {},
   "outputs": [
    {
     "data": {
      "text/plain": [
       "[2, 3, 2, 2, 3, 2, 3, 1, 1, 1]"
      ]
     },
     "execution_count": 50,
     "metadata": {},
     "output_type": "execute_result"
    }
   ],
   "source": [
    "exp"
   ]
  },
  {
   "cell_type": "code",
   "execution_count": 51,
   "id": "c6b6802a-8d68-43c8-bf54-8e1318132f40",
   "metadata": {},
   "outputs": [
    {
     "data": {
      "text/plain": [
       "array([1, 2, 3])"
      ]
     },
     "execution_count": 51,
     "metadata": {},
     "output_type": "execute_result"
    }
   ],
   "source": [
    "unique"
   ]
  },
  {
   "cell_type": "code",
   "execution_count": 52,
   "id": "9b279499-b764-4bac-9b6b-89fe27bfb8ce",
   "metadata": {},
   "outputs": [
    {
     "data": {
      "text/plain": [
       "array([3, 4, 3], dtype=int64)"
      ]
     },
     "execution_count": 52,
     "metadata": {},
     "output_type": "execute_result"
    }
   ],
   "source": [
    "counts"
   ]
  },
  {
   "cell_type": "code",
   "execution_count": 57,
   "id": "5d465ca8-1199-41cb-ae1e-052ee52671aa",
   "metadata": {},
   "outputs": [
    {
     "name": "stderr",
     "output_type": "stream",
     "text": [
      "C:\\Anaconda3\\lib\\site-packages\\seaborn\\_decorators.py:43: FutureWarning: Pass the following variables as keyword args: x, y. From version 0.12, the only valid positional argument will be `data`, and passing other arguments without an explicit keyword will result in an error or misinterpretation.\n",
      "  FutureWarning\n"
     ]
    },
    {
     "data": {
      "text/plain": [
       "<AxesSubplot:>"
      ]
     },
     "execution_count": 57,
     "metadata": {},
     "output_type": "execute_result"
    },
    {
     "data": {
      "image/png": "[encoded data removed]",
      "text/plain": [
       "<Figure size 432x288 with 1 Axes>"
      ]
     },
     "metadata": {
      "needs_background": "light"
     },
     "output_type": "display_data"
    }
   ],
   "source": [
    "sns.barplot(unique, counts)"
   ]
  },
  {
   "cell_type": "code",
   "execution_count": 77,
   "id": "fb9dd0ff-976c-4cfa-a70a-f34b8fb98675",
   "metadata": {},
   "outputs": [
    {
     "data": {
      "text/plain": [
       "14.5"
      ]
     },
     "execution_count": 77,
     "metadata": {},
     "output_type": "execute_result"
    }
   ],
   "source": [
    "largos = [14.5, 14.5, 14.5, 15, 13.9, 14.3, 13.2, 17.5, 13.9, 14.7, 16.0, 14.3, 15.3, 15, 16, 15.9, 14.5, 10.2, 14.3, 14.3, 14.9, 16.6, 12.2, 12.5]\n",
    "\n",
    "np.mean(largos)"
   ]
  },
  {
   "cell_type": "code",
   "execution_count": 81,
   "id": "b94ec6e6-9a4f-4719-bbd7-bc4a6a54e583",
   "metadata": {},
   "outputs": [
    {
     "name": "stdout",
     "output_type": "stream",
     "text": [
      "[14.5 14.5 14.5 15.  13.9 14.3 13.2 17.5 13.9 14.7 16.  14.3 15.3 15.\n",
      " 16.  15.9 14.5 10.2 14.3 14.3 14.9 16.6 12.2 12.5]\n"
     ]
    },
    {
     "name": "stderr",
     "output_type": "stream",
     "text": [
      "C:\\Anaconda3\\lib\\site-packages\\seaborn\\_decorators.py:43: FutureWarning: Pass the following variables as keyword args: x, y. From version 0.12, the only valid positional argument will be `data`, and passing other arguments without an explicit keyword will result in an error or misinterpretation.\n",
      "  FutureWarning\n"
     ]
    },
    {
     "data": {
      "text/plain": [
       "<AxesSubplot:>"
      ]
     },
     "execution_count": 81,
     "metadata": {},
     "output_type": "execute_result"
    },
    {
     "data": {
      "image/png": "[encoded data removed]",
      "text/plain": [
       "<Figure size 432x288 with 1 Axes>"
      ]
     },
     "metadata": {
      "needs_background": "light"
     },
     "output_type": "display_data"
    }
   ],
   "source": [
    "data = np.array(largos)\n",
    "print (data)\n",
    "unique, counts = np.unique(data, return_counts=True)\n",
    "sns.barplot(unique, counts/counts.sum())"
   ]
  },
  {
   "cell_type": "code",
   "execution_count": 85,
   "id": "b770c4af-e314-471a-a9cb-c103f7b8f4ce",
   "metadata": {},
   "outputs": [
    {
     "name": "stdout",
     "output_type": "stream",
     "text": [
      "[10.2 12.2 12.5 13.2 13.9 13.9 14.3 14.3 14.3 14.3 14.5 14.5 14.5 14.5\n",
      " 14.7 14.9 15.  15.  15.3 15.9 16.  16.  16.6 17.5]\n",
      "[ 0  1  2  3  4  5  6  7  8  9 10 11 12 13 14 15 16 17 18 19 20 21 22 23]\n"
     ]
    },
    {
     "name": "stderr",
     "output_type": "stream",
     "text": [
      "C:\\Anaconda3\\lib\\site-packages\\seaborn\\_decorators.py:43: FutureWarning: Pass the following variables as keyword args: x, y. From version 0.12, the only valid positional argument will be `data`, and passing other arguments without an explicit keyword will result in an error or misinterpretation.\n",
      "  FutureWarning\n"
     ]
    },
    {
     "data": {
      "image/png": "[encoded data removed]",
      "text/plain": [
       "<Figure size 432x288 with 1 Axes>"
      ]
     },
     "metadata": {
      "needs_background": "light"
     },
     "output_type": "display_data"
    }
   ],
   "source": [
    "data.sort()\n",
    "print(data)\n",
    "x = np.arange(len(data))\n",
    "print (x)\n",
    "grafico = sns.scatterplot(x,data)"
   ]
  },
  {
   "cell_type": "code",
   "execution_count": 88,
   "id": "232239bd-7a11-4599-8eb7-d9e5bf846466",
   "metadata": {},
   "outputs": [
    {
     "name": "stdout",
     "output_type": "stream",
     "text": [
      "La probabilidad de que el valor este entre 12 y 13 es 8.333333333333332%\n"
     ]
    },
    {
     "name": "stderr",
     "output_type": "stream",
     "text": [
      "C:\\Anaconda3\\lib\\site-packages\\seaborn\\_decorators.py:43: FutureWarning: Pass the following variables as keyword args: x, y. From version 0.12, the only valid positional argument will be `data`, and passing other arguments without an explicit keyword will result in an error or misinterpretation.\n",
      "  FutureWarning\n"
     ]
    },
    {
     "data": {
      "text/plain": [
       "<matplotlib.lines.Line2D at 0x2d056c43080>"
      ]
     },
     "execution_count": 88,
     "metadata": {},
     "output_type": "execute_result"
    },
    {
     "data": {
      "image/png": "[encoded data removed]",
      "text/plain": [
       "<Figure size 432x288 with 1 Axes>"
      ]
     },
     "metadata": {
      "needs_background": "light"
     },
     "output_type": "display_data"
    }
   ],
   "source": [
    "# Cual es la probabilidad de que un lapiz mida entre 14 y 15 cm\n",
    "\n",
    "cota_sup = 13\n",
    "cota_inf = 12\n",
    "\n",
    "condicion = (cota_inf < data) & (data <= cota_sup)\n",
    "# La probabilidad son los caso favorables sobre los totales\n",
    "print (f'La probabilidad de que el valor este entre {cota_inf} y {cota_sup} es {condicion.sum()/len(condicion)*100}%')\n",
    "grafico = sns.scatterplot(x,data)\n",
    "grafico.axhline(cota_sup)\n",
    "grafico.axhline(cota_inf)"
   ]
  },
  {
   "cell_type": "code",
   "execution_count": 90,
   "id": "72c5a7f1-63b1-4ac8-b342-c9d714296259",
   "metadata": {},
   "outputs": [
    {
     "name": "stderr",
     "output_type": "stream",
     "text": [
      "C:\\Anaconda3\\lib\\site-packages\\seaborn\\_decorators.py:43: FutureWarning: Pass the following variables as keyword args: x, y. From version 0.12, the only valid positional argument will be `data`, and passing other arguments without an explicit keyword will result in an error or misinterpretation.\n",
      "  FutureWarning\n"
     ]
    },
    {
     "data": {
      "image/png": "[encoded data removed]",
      "text/plain": [
       "<Figure size 432x288 with 1 Axes>"
      ]
     },
     "metadata": {
      "needs_background": "light"
     },
     "output_type": "display_data"
    }
   ],
   "source": [
    "# Vamos a contruir la probabilidad acumulada\n",
    "paso = 0.1\n",
    "\n",
    "probabilidad_acumulada = []\n",
    "limite_inf = data.min()-paso\n",
    "\n",
    "for deslizador in np.arange(data.min()-paso,data.max()+paso,paso):\n",
    "    condicion = (limite_inf < data) & (data <= deslizador)\n",
    "    probabilidad_acumulada.append(condicion.sum()/len(condicion)*100)\n",
    "    \n",
    "grafico = sns.lineplot(np.arange(data.min()-paso,data.max()+paso,paso),probabilidad_acumulada)"
   ]
  },
  {
   "cell_type": "code",
   "execution_count": 93,
   "id": "f1d7962f-f610-4fea-823d-ef6c5c31de86",
   "metadata": {},
   "outputs": [
    {
     "name": "stderr",
     "output_type": "stream",
     "text": [
      "C:\\Anaconda3\\lib\\site-packages\\seaborn\\_decorators.py:43: FutureWarning: Pass the following variables as keyword args: x, y. From version 0.12, the only valid positional argument will be `data`, and passing other arguments without an explicit keyword will result in an error or misinterpretation.\n",
      "  FutureWarning\n"
     ]
    },
    {
     "data": {
      "image/png": "[encoded data removed]",
      "text/plain": [
       "<Figure size 432x288 with 1 Axes>"
      ]
     },
     "metadata": {
      "needs_background": "light"
     },
     "output_type": "display_data"
    }
   ],
   "source": [
    "# Vamos a construir la densidad de probabilidad\n",
    "paso = 0.2\n",
    "\n",
    "densidad_probabilidad = []\n",
    "for deslizador in np.arange(data.min()-paso,data.max()+paso,paso):\n",
    "    condicion = (deslizador - paso/2 < data) & (data <= deslizador + paso/2)\n",
    "    densidad_probabilidad.append(condicion.sum()/len(condicion)*100) \n",
    "    \n",
    "grafico = sns.barplot(np.arange(data.min()-paso,data.max()+paso,paso),densidad_probabilidad)"
   ]
  }
 ],
 "metadata": {
  "kernelspec": {
   "display_name": "Python 3 (ipykernel)",
   "language": "python",
   "name": "python3"
  },
  "language_info": {
   "codemirror_mode": {
    "name": "ipython",
    "version": 3
   },
   "file_extension": ".py",
   "mimetype": "text/x-python",
   "name": "python",
   "nbconvert_exporter": "python",
   "pygments_lexer": "ipython3",
   "version": "3.7.3"
  }
 },
 "nbformat": 4,
 "nbformat_minor": 5
}
